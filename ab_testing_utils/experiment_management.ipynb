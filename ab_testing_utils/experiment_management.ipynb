{
 "cells": [
  {
   "cell_type": "code",
   "execution_count": null,
   "metadata": {},
   "outputs": [],
   "source": [
    "import os\n",
    "\n",
    "import psycopg2\n",
    "\n",
    "from env_vars import *"
   ]
  },
  {
   "cell_type": "code",
   "execution_count": null,
   "metadata": {},
   "outputs": [],
   "source": [
    "# Database connection configuration\n",
    "DB_CONFIG = {\n",
    "    'dbname': os.getenv('dbname', 'mwk'),\n",
    "    'user': os.getenv('dbname', 'mwk'),\n",
    "    'password': os.getenv('your_password', 'pw'),\n",
    "    'host': os.getenv('your_host', 'localhost'),\n",
    "    'port': os.getenv('your_port', '5432'),\n",
    "}"
   ]
  },
  {
   "cell_type": "code",
   "execution_count": null,
   "metadata": {},
   "outputs": [],
   "source": [
    "def get_db_connection():\n",
    "    return psycopg2.connect(**DB_CONFIG)"
   ]
  },
  {
   "cell_type": "code",
   "execution_count": null,
   "metadata": {},
   "outputs": [],
   "source": [
    "def insert_experiment(cursor, experiment_name, description):\n",
    "    cursor.execute(\n",
    "        \"INSERT INTO experiments (experiment_name, description) VALUES (%s, %s) RETURNING experiment_id\",\n",
    "        (experiment_name, description)\n",
    "    )\n",
    "    return cursor.fetchone()[0]\n",
    "\n",
    "def insert_model(cursor, model_name, description, experiment_id):\n",
    "    cursor.execute(\n",
    "        \"INSERT INTO models (model_name, description, experiment_id) VALUES (%s, %s, %s) RETURNING model_id\",\n",
    "        (model_name, description, experiment_id)\n",
    "    )\n",
    "    return cursor.fetchone()[0]"
   ]
  },
  {
   "cell_type": "code",
   "execution_count": null,
   "metadata": {},
   "outputs": [],
   "source": [
    "def create_experiment(experiment_name, experiment_description, model_a_name, model_a_description, model_b_name, model_b_description):\n",
    "    with get_db_connection() as conn:\n",
    "        with conn.cursor() as cur:\n",
    "            # Insert experiment (assuming it's new each time)\n",
    "            experiment_id = insert_experiment(cur, experiment_name, experiment_description)\n",
    "\n",
    "            # Insert models\n",
    "            model_a_id = insert_model(cur, model_a_name, model_a_description, experiment_id)\n",
    "            model_b_id = insert_model(cur, model_b_name, model_b_description, experiment_id)\n",
    "\n",
    "        conn.commit()\n",
    "    return experiment_id, model_a_id, model_b_id"
   ]
  },
  {
   "cell_type": "code",
   "execution_count": null,
   "metadata": {},
   "outputs": [],
   "source": [
    "experiment_name = \"Testing a detailed prompt versus a succinct prompt.\"\n",
    "experiment_description = \"Testing my prompt against my other prompt perfect GPT.\"\n",
    "model_a_name = \"My prompt\"\n",
    "model_a_description = \"Generated this prompt by myself.\"\n",
    "model_b_name = \"An optimized prompt with prompt perfect GPT\"\n",
    "model_b_description = \"Generated this prompt by optmizing my prompt.\""
   ]
  },
  {
   "cell_type": "code",
   "execution_count": null,
   "metadata": {},
   "outputs": [],
   "source": [
    "experiment_id, model_a_id, model_b_id = create_experiment(experiment_name, experiment_description, model_a_name, model_a_description, model_b_name, model_b_description)\n",
    "experiment_id, model_a_id, model_b_id"
   ]
  },
  {
   "cell_type": "code",
   "execution_count": null,
   "metadata": {},
   "outputs": [],
   "source": [
    "experiment_id, model_a_id, model_b_id"
   ]
  },
  {
   "cell_type": "code",
   "execution_count": null,
   "metadata": {},
   "outputs": [],
   "source": [
    "with get_db_connection() as conn:\n",
    "    with conn.cursor() as cur:\n",
    "        #cur.execute(\"SELECT * FROM conversations\")\n",
    "        cur.execute(\"SELECT * FROM comparison\")\n",
    "        rows = cur.fetchall()\n",
    "        print(rows)"
   ]
  },
  {
   "cell_type": "code",
   "execution_count": null,
   "metadata": {},
   "outputs": [],
   "source": []
  },
  {
   "cell_type": "code",
   "execution_count": null,
   "metadata": {},
   "outputs": [],
   "source": []
  }
 ],
 "metadata": {
  "kernelspec": {
   "display_name": "main",
   "language": "python",
   "name": "python3"
  },
  "language_info": {
   "codemirror_mode": {
    "name": "ipython",
    "version": 3
   },
   "file_extension": ".py",
   "mimetype": "text/x-python",
   "name": "python",
   "nbconvert_exporter": "python",
   "pygments_lexer": "ipython3",
   "version": "3.10.12"
  }
 },
 "nbformat": 4,
 "nbformat_minor": 2
}
