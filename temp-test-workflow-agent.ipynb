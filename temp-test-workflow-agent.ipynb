{
 "cells": [
  {
   "cell_type": "code",
   "execution_count": 1,
   "metadata": {},
   "outputs": [],
   "source": [
    "%load_ext autoreload\n",
    "%autoreload 2"
   ]
  },
  {
   "cell_type": "code",
   "execution_count": 2,
   "metadata": {},
   "outputs": [],
   "source": [
    "from dotenv import load_dotenv\n",
    "from agents.ansari_workflow import Ansari\n",
    "from config import get_settings"
   ]
  },
  {
   "cell_type": "code",
   "execution_count": 3,
   "metadata": {},
   "outputs": [
    {
     "data": {
      "text/plain": [
       "True"
      ]
     },
     "execution_count": 3,
     "metadata": {},
     "output_type": "execute_result"
    }
   ],
   "source": [
    "load_dotenv(\"abandoned/.env\")"
   ]
  },
  {
   "cell_type": "code",
   "execution_count": 17,
   "metadata": {},
   "outputs": [],
   "source": [
    "settigns = get_settings()\n",
    "ansari = Ansari(settigns)"
   ]
  },
  {
   "cell_type": "code",
   "execution_count": 18,
   "metadata": {},
   "outputs": [
    {
     "name": "stdout",
     "output_type": "stream",
     "text": [
      "<tools.search_quran.SearchQuran object at 0x73a710b92c90>\n",
      "{'query_from_prev_output_index': 0, 'tool_name': 'search_quran'}\n",
      "['1. غاية الحياة  \\n2. هدف الحياة  \\n3. معنى الحياة  \\n4. خلق الإنسان  \\n5. عبادة الله']\n",
      "1. غاية الحياة  \n",
      "2. هدف الحياة  \n",
      "3. معنى الحياة  \n",
      "4. خلق الإنسان  \n",
      "5. عبادة الله\n"
     ]
    }
   ],
   "source": [
    "workflow_steps = [\n",
    "    (\"gen_query\", {\"input\": \"what is the meaning of life?\", \"target_corpus\": \"quran\"}),\n",
    "    (\"search\", {\"query_from_prev_output_index\": 0, \"tool_name\": \"search_quran\"}),\n",
    "    (\"gen_answer\", {\"input\": \"what is the meaning of life?\", \"search_results_indices\": [1]}),\n",
    "    \n",
    "]\n",
    "output = ansari.execute_workflow(workflow_steps)"
   ]
  },
  {
   "cell_type": "code",
   "execution_count": 19,
   "metadata": {},
   "outputs": [
    {
     "name": "stdout",
     "output_type": "stream",
     "text": [
      "('In Islam, the meaning of life is deeply rooted in the worship and servitude '\n",
      " 'to Allah (SWT). The Quran provides guidance on this matter, emphasizing that '\n",
      " 'life is a test and a preparation for the Hereafter. Allah says in the '\n",
      " 'Quran:\\n'\n",
      " '\\n'\n",
      " '- \"˹He is the One˺ Who created death and life in order to test which of you '\n",
      " 'is best in deeds. And He is the Almighty, All-Forgiving.\" (Surah Al-Mulk, '\n",
      " '67:2)\\n'\n",
      " '\\n'\n",
      " 'This verse highlights that life is a test of our actions and character. The '\n",
      " 'ultimate purpose is to worship Allah and live according to His guidance, as '\n",
      " 'stated in another verse:\\n'\n",
      " '\\n'\n",
      " '- \"And I did not create the jinn and mankind except to worship Me.\" (Surah '\n",
      " 'Adh-Dhariyat, 51:56)\\n'\n",
      " '\\n'\n",
      " 'Furthermore, the Quran reminds us that the worldly life is temporary and the '\n",
      " 'real, everlasting life is in the Hereafter:\\n'\n",
      " '\\n'\n",
      " '- \"This worldly life is no more than play and amusement. But the Hereafter '\n",
      " 'is indeed the real life, if only they knew.\" (Surah Al-Ankabut, 29:64)\\n'\n",
      " '\\n'\n",
      " 'Thus, the meaning of life in Islam is to recognize our purpose as servants '\n",
      " 'of Allah, to strive for righteousness, and to prepare for the eternal life '\n",
      " 'in the Hereafter. This understanding is supported by the teachings of '\n",
      " 'classical scholars like Imam Al-Ghazali and Ibn Al-Qayyim, who emphasized '\n",
      " \"the importance of aligning one's life with the divine purpose and seeking \"\n",
      " 'closeness to Allah.')\n"
     ]
    }
   ],
   "source": [
    "from pprint import pprint\n",
    "pprint(output[2])"
   ]
  },
  {
   "cell_type": "code",
   "execution_count": null,
   "metadata": {},
   "outputs": [],
   "source": []
  }
 ],
 "metadata": {
  "kernelspec": {
   "display_name": "base",
   "language": "python",
   "name": "python3"
  },
  "language_info": {
   "codemirror_mode": {
    "name": "ipython",
    "version": 3
   },
   "file_extension": ".py",
   "mimetype": "text/x-python",
   "name": "python",
   "nbconvert_exporter": "python",
   "pygments_lexer": "ipython3",
   "version": "3.12.5"
  }
 },
 "nbformat": 4,
 "nbformat_minor": 2
}
