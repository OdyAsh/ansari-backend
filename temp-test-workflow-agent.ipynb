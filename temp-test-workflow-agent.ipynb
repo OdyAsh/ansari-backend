{
 "cells": [
  {
   "cell_type": "code",
   "execution_count": 1,
   "metadata": {},
   "outputs": [],
   "source": [
    "%load_ext autoreload\n",
    "%autoreload 2"
   ]
  },
  {
   "cell_type": "code",
   "execution_count": null,
   "metadata": {},
   "outputs": [],
   "source": [
    "from dotenv import load_dotenv\n",
    "from agents.ansari_workflow import Ansari\n",
    "from config import get_settings"
   ]
  },
  {
   "cell_type": "code",
   "execution_count": 3,
   "metadata": {},
   "outputs": [
    {
     "data": {
      "text/plain": [
       "True"
      ]
     },
     "execution_count": 3,
     "metadata": {},
     "output_type": "execute_result"
    }
   ],
   "source": [
    "load_dotenv(\"abandoned/.env\")"
   ]
  },
  {
   "cell_type": "code",
   "execution_count": 5,
   "metadata": {},
   "outputs": [],
   "source": [
    "settigns = get_settings()\n",
    "ansari = Ansari(settigns)"
   ]
  },
  {
   "cell_type": "code",
   "execution_count": 6,
   "metadata": {},
   "outputs": [
    {
     "name": "stdout",
     "output_type": "stream",
     "text": [
      "<tools.search_quran.SearchQuran object at 0x7e71dc8cae70>\n",
      "{'query_from_prev_output_index': 0, 'tool_name': 'search_quran'}\n",
      "['1. معنى الحياة\\n2. غاية الحياة\\n3. هدف الإنسان\\n4. خلق الإنسان\\n5. عبادة الله']\n",
      "1. معنى الحياة\n",
      "2. غاية الحياة\n",
      "3. هدف الإنسان\n",
      "4. خلق الإنسان\n",
      "5. عبادة الله\n"
     ]
    }
   ],
   "source": [
    "workflow_steps = [\n",
    "    (\"gen_query\", {\"input\": \"what is the meaning of life?\", \"target_corpus\": \"quran\"}),\n",
    "    (\"search\", {\"query_from_prev_output_index\": 0, \"tool_name\": \"search_quran\"}),\n",
    "    (\"gen_answer\", {\"input\": \"what is the meaning of life?\", \"search_results_indices\": [1]}),\n",
    "    \n",
    "]\n",
    "output = ansari.execute_workflow(workflow_steps)"
   ]
  },
  {
   "cell_type": "code",
   "execution_count": 7,
   "metadata": {},
   "outputs": [
    {
     "data": {
      "text/plain": [
       "['1. معنى الحياة\\n2. غاية الحياة\\n3. هدف الإنسان\\n4. خلق الإنسان\\n5. عبادة الله',\n",
       " 'Ayah: 86:5\\nArabic Text: فَلْيَنظُرِ ٱلْإِنسَـٰنُ مِمَّ خُلِقَ\\n\\nEnglish Text: Let people then consider what they were created from!\\n\\n\\nAyah: 86:6\\nArabic Text: خُلِقَ مِن مَّآءٍۢ دَافِقٍۢ\\n\\nEnglish Text: ˹They were˺ created from a spurting fluid,\\n\\n\\nAyah: 86:7\\nArabic Text: يَخْرُجُ مِنۢ بَيْنِ ٱلصُّلْبِ وَٱلتَّرَآئِبِ\\n\\nEnglish Text: stemming from between the backbone and the ribcage.\\n\\n\\nAyah: 86:8\\nArabic Text: إِنَّهُۥ عَلَىٰ رَجْعِهِۦ لَقَادِرٌ\\n\\nEnglish Text: Surely He is fully capable of bringing them back ˹to life˺\\n\\n\\nAyah: 22:6\\nArabic Text: ذَٰلِكَ بِأَنَّ ٱللَّهَ هُوَ ٱلْحَقُّ وَأَنَّهُۥ يُحْىِ ٱلْمَوْتَىٰ وَأَنَّهُۥ عَلَىٰ كُلِّ شَىْءٍۢ قَدِيرٌ\\n\\nEnglish Text: That is because Allah ˹alone˺ is the Truth, He ˹alone˺ gives life to the dead, and He ˹alone˺ is Most Capable of everything.\\n\\n\\nAyah: 80:19\\nArabic Text: مِن نُّطْفَةٍ خَلَقَهُۥ فَقَدَّرَهُۥ\\n\\nEnglish Text: He created them from a sperm-drop, and ordained their development.\\n\\n\\nAyah: 55:3\\nArabic Text: خَلَقَ ٱلْإِنسَـٰنَ\\n\\nEnglish Text: created humanity,\\n\\n\\nAyah: 59:24\\nArabic Text: هُوَ ٱللَّهُ ٱلْخَـٰلِقُ ٱلْبَارِئُ ٱلْمُصَوِّرُ ۖ لَهُ ٱلْأَسْمَآءُ ٱلْحُسْنَىٰ ۚ يُسَبِّحُ لَهُۥ مَا فِى ٱلسَّمَـٰوَٰتِ وَٱلْأَرْضِ ۖ وَهُوَ ٱلْعَزِيزُ ٱلْحَكِيمُ\\n\\nEnglish Text: He is Allah: the Creator, the Inventor, the Shaper. He ˹alone˺ has the Most Beautiful Names. Whatever is in the heavens and the earth ˹constantly˺ glorifies Him. And He is the Almighty, All-Wise.\\n\\n\\nAyah: 16:4\\nArabic Text: خَلَقَ ٱلْإِنسَـٰنَ مِن نُّطْفَةٍۢ فَإِذَا هُوَ خَصِيمٌ مُّبِينٌ\\n\\nEnglish Text: He created humans from a sperm-drop, then—behold!—they openly challenge ˹Him˺.\\n\\n\\nAyah: 32:7\\nArabic Text: ٱلَّذِىٓ أَحْسَنَ كُلَّ شَىْءٍ خَلَقَهُۥ ۖ وَبَدَأَ خَلْقَ ٱلْإِنسَـٰنِ مِن طِينٍۢ\\n\\nEnglish Text: Who has perfected everything He created. And He originated the creation of humankind from clay.\\n\\n',\n",
       " <generator object LangfuseDecorator._wrap_sync_generator_result at 0x7e71f191f9a0>]"
      ]
     },
     "execution_count": 7,
     "metadata": {},
     "output_type": "execute_result"
    }
   ],
   "source": [
    "output"
   ]
  },
  {
   "cell_type": "code",
   "execution_count": null,
   "metadata": {},
   "outputs": [],
   "source": []
  }
 ],
 "metadata": {
  "kernelspec": {
   "display_name": "base",
   "language": "python",
   "name": "python3"
  },
  "language_info": {
   "codemirror_mode": {
    "name": "ipython",
    "version": 3
   },
   "file_extension": ".py",
   "mimetype": "text/x-python",
   "name": "python",
   "nbconvert_exporter": "python",
   "pygments_lexer": "ipython3",
   "version": "3.12.5"
  }
 },
 "nbformat": 4,
 "nbformat_minor": 2
}
